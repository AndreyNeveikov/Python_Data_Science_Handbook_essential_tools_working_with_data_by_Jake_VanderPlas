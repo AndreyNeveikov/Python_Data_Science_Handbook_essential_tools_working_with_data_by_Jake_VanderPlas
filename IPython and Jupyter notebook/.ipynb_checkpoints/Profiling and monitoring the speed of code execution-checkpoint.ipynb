{
 "cells": [
  {
   "cell_type": "markdown",
   "id": "2b39ce40",
   "metadata": {},
   "source": [
    "%time - the duration of the execution of an individual statement\n",
    "\n",
    "%timeit - the duration of the execution of an individual statement with repeated repetition\n",
    "\n",
    "%prun - executing code with a profiler\n",
    "\n",
    "%lprun - stepping through code with a profiler\n",
    "\n",
    "%memit - evaluation of RAM usage for an individual operator\n",
    "\n",
    "%mprun - stepping through code with a memory profiler"
   ]
  },
  {
   "cell_type": "code",
   "execution_count": 1,
   "id": "5a9c6005",
   "metadata": {},
   "outputs": [
    {
     "name": "stdout",
     "output_type": "stream",
     "text": [
      "1.11 µs ± 8.71 ns per loop (mean ± std. dev. of 7 runs, 1000000 loops each)\n"
     ]
    }
   ],
   "source": [
    "%timeit sum(range(100)) # 1000000 loops because fast operation"
   ]
  },
  {
   "cell_type": "code",
   "execution_count": 2,
   "id": "c7bd80d9",
   "metadata": {},
   "outputs": [
    {
     "name": "stdout",
     "output_type": "stream",
     "text": [
      "377 ms ± 4.56 ms per loop (mean ± std. dev. of 7 runs, 1 loop each)\n"
     ]
    }
   ],
   "source": [
    "%%timeit # 1 loop because slow operation\n",
    "total = 0\n",
    "for i in range(1000):\n",
    "    for j in range(1000):\n",
    "        total += i * (-1) ** j"
   ]
  },
  {
   "cell_type": "markdown",
   "id": "c19fc89f",
   "metadata": {},
   "source": [
    "##### when sorting, repeated execution distorts the result because after the first sort, the function runs faster"
   ]
  },
  {
   "cell_type": "code",
   "execution_count": 3,
   "id": "e95c5d00",
   "metadata": {},
   "outputs": [
    {
     "name": "stdout",
     "output_type": "stream",
     "text": [
      "568 µs ± 25.8 µs per loop (mean ± std. dev. of 7 runs, 1000 loops each)\n"
     ]
    }
   ],
   "source": [
    "import random\n",
    "L = [random.random() for i in range(100000)]\n",
    "%timeit L.sort()"
   ]
  },
  {
   "cell_type": "code",
   "execution_count": 4,
   "id": "bf8bee9c",
   "metadata": {},
   "outputs": [
    {
     "name": "stdout",
     "output_type": "stream",
     "text": [
      "sorting an unsorted list:\n",
      "Wall time: 27.4 ms\n"
     ]
    }
   ],
   "source": [
    "import random\n",
    "L = [random.random() for i in range(100000)]\n",
    "print(\"sorting an unsorted list:\")\n",
    "%time L.sort()"
   ]
  },
  {
   "cell_type": "code",
   "execution_count": 5,
   "id": "f354d387",
   "metadata": {},
   "outputs": [
    {
     "name": "stdout",
     "output_type": "stream",
     "text": [
      "sorting an already sorted list:\n",
      "Wall time: 0 ns\n"
     ]
    }
   ],
   "source": [
    "print(\"sorting an already sorted list:\")\n",
    "%time L.sort()"
   ]
  },
  {
   "cell_type": "markdown",
   "id": "c48e00d4",
   "metadata": {},
   "source": [
    "##### 27.4 ms > 0 ns )))"
   ]
  },
  {
   "cell_type": "code",
   "execution_count": 6,
   "id": "6eedcf1b",
   "metadata": {},
   "outputs": [
    {
     "name": "stdout",
     "output_type": "stream",
     "text": [
      "Wall time: 549 ms\n"
     ]
    }
   ],
   "source": [
    "%%time\n",
    "total = 0\n",
    "for i in range(1000):\n",
    "    for j in range(1000):\n",
    "        total += i * (-1) ** j"
   ]
  },
  {
   "cell_type": "markdown",
   "id": "ed472f20",
   "metadata": {},
   "source": [
    "### Scenario profiling"
   ]
  },
  {
   "cell_type": "markdown",
   "id": "88115f2f",
   "metadata": {},
   "source": [
    "##### whole profiling %prun"
   ]
  },
  {
   "cell_type": "code",
   "execution_count": 7,
   "id": "fbb6fe60",
   "metadata": {},
   "outputs": [],
   "source": [
    "def sum_of_lists(N):\n",
    "    total = 0\n",
    "    for i in range(5):\n",
    "        L = [j ^ (j >> i) for j in range(N)]\n",
    "        total += sum(L)\n",
    "    return total"
   ]
  },
  {
   "cell_type": "code",
   "execution_count": 8,
   "id": "a2009eb1",
   "metadata": {},
   "outputs": [
    {
     "name": "stdout",
     "output_type": "stream",
     "text": [
      " "
     ]
    }
   ],
   "source": [
    "%prun sum_of_lists(1000000)"
   ]
  },
  {
   "cell_type": "markdown",
   "id": "467eb649",
   "metadata": {},
   "source": [
    "##### Step by step profiling with %lprun"
   ]
  },
  {
   "cell_type": "code",
   "execution_count": 9,
   "id": "910ae071",
   "metadata": {},
   "outputs": [],
   "source": [
    "# pip install line_profiler\n",
    "%load_ext line_profiler"
   ]
  },
  {
   "cell_type": "code",
   "execution_count": 11,
   "id": "05fb1dab",
   "metadata": {},
   "outputs": [],
   "source": [
    "%lprun -f sum_of_lists sum_of_lists(5000)"
   ]
  },
  {
   "cell_type": "markdown",
   "id": "3ac10475",
   "metadata": {},
   "source": [
    "### Memory usage profiling: %memit and %mprun"
   ]
  },
  {
   "cell_type": "code",
   "execution_count": 12,
   "id": "a56a03bf",
   "metadata": {},
   "outputs": [],
   "source": [
    "# pip install memory_profiler\n",
    "%load_ext memory_profiler"
   ]
  },
  {
   "cell_type": "code",
   "execution_count": 13,
   "id": "a280756f",
   "metadata": {},
   "outputs": [
    {
     "name": "stdout",
     "output_type": "stream",
     "text": [
      "peak memory: 168.77 MiB, increment: 71.29 MiB\n"
     ]
    }
   ],
   "source": [
    "%memit sum_of_lists(1000000)"
   ]
  },
  {
   "cell_type": "markdown",
   "id": "7bb19cb8",
   "metadata": {},
   "source": [
    "##### %mprun works only for functions described in individual modules"
   ]
  },
  {
   "cell_type": "code",
   "execution_count": 15,
   "id": "f68ac494",
   "metadata": {},
   "outputs": [
    {
     "name": "stderr",
     "output_type": "stream",
     "text": [
      "UsageError: Line magic function `%%file` not found.\n"
     ]
    }
   ],
   "source": [
    "# %%file creates a file .py\n",
    "%%file mprun_demo.py # Only in IPython\n",
    "def sum_of_lists(N):\n",
    "    total = 0\n",
    "    for i in range(5):\n",
    "        L = [j ^ (j >> i) for j in range(N)]\n",
    "        total += sum(L)\n",
    "        del L # Removes link to \"L\"\n",
    "        return total"
   ]
  },
  {
   "cell_type": "code",
   "execution_count": 16,
   "id": "f6a01ba0",
   "metadata": {},
   "outputs": [
    {
     "name": "stdout",
     "output_type": "stream",
     "text": [
      "\n"
     ]
    }
   ],
   "source": [
    "from mprun_demo import sum_of_lists\n",
    "%mprun -f sum_of_lists sum_of_lists(1000000)"
   ]
  }
 ],
 "metadata": {
  "kernelspec": {
   "display_name": "Python 3 (ipykernel)",
   "language": "python",
   "name": "python3"
  },
  "language_info": {
   "codemirror_mode": {
    "name": "ipython",
    "version": 3
   },
   "file_extension": ".py",
   "mimetype": "text/x-python",
   "name": "python",
   "nbconvert_exporter": "python",
   "pygments_lexer": "ipython3",
   "version": "3.10.0"
  }
 },
 "nbformat": 4,
 "nbformat_minor": 5
}
