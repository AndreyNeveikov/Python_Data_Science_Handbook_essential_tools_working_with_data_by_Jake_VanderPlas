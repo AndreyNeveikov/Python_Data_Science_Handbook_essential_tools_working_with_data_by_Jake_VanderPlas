{
 "cells": [
  {
   "cell_type": "markdown",
   "id": "feb21aca",
   "metadata": {},
   "source": [
    "## shell instructions IPython only!"
   ]
  },
  {
   "cell_type": "code",
   "execution_count": null,
   "id": "5f4fe7b9",
   "metadata": {},
   "outputs": [],
   "source": [
    "!ls\n",
    "!pdw\n",
    "!echo \"printing from the shell\""
   ]
  },
  {
   "cell_type": "markdown",
   "id": "df9aa90e",
   "metadata": {},
   "source": [
    "##### function call value can be assigned"
   ]
  },
  {
   "cell_type": "code",
   "execution_count": null,
   "id": "a0deba22",
   "metadata": {},
   "outputs": [],
   "source": [
    "contents = !ls\n",
    "print(contents)\n",
    "\n",
    "directory = !pwd\n",
    "print(directory)\n",
    "\n",
    "type(directory)\n",
    "\n",
    "message = \"Hello from Python\"\n",
    "!echo {message}"
   ]
  }
 ],
 "metadata": {
  "kernelspec": {
   "display_name": "Python 3 (ipykernel)",
   "language": "python",
   "name": "python3"
  },
  "language_info": {
   "codemirror_mode": {
    "name": "ipython",
    "version": 3
   },
   "file_extension": ".py",
   "mimetype": "text/x-python",
   "name": "python",
   "nbconvert_exporter": "python",
   "pygments_lexer": "ipython3",
   "version": "3.10.0"
  }
 },
 "nbformat": 4,
 "nbformat_minor": 5
}
