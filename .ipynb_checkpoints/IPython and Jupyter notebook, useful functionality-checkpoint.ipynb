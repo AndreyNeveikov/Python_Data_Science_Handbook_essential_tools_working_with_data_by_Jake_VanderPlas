{
 "cells": [
  {
   "cell_type": "markdown",
   "id": "0d0121fe",
   "metadata": {},
   "source": [
    "##### using \"?\" to get additional information"
   ]
  },
  {
   "cell_type": "code",
   "execution_count": 1,
   "id": "c6e0e9f7",
   "metadata": {
    "scrolled": true
   },
   "outputs": [],
   "source": [
    "len?"
   ]
  },
  {
   "cell_type": "code",
   "execution_count": 2,
   "id": "8f9f1e17",
   "metadata": {
    "scrolled": true
   },
   "outputs": [],
   "source": [
    "L = [1, 2, 3]\n",
    "L?"
   ]
  },
  {
   "cell_type": "code",
   "execution_count": 3,
   "id": "714764bd",
   "metadata": {
    "scrolled": true
   },
   "outputs": [],
   "source": [
    "def square(a):\n",
    "    \"\"\"Return the square of a\"\"\"\n",
    "    return a ** 2\n",
    "\n",
    "square?"
   ]
  },
  {
   "cell_type": "code",
   "execution_count": 4,
   "id": "0a32b8dd",
   "metadata": {
    "scrolled": true
   },
   "outputs": [],
   "source": [
    "len??"
   ]
  },
  {
   "cell_type": "markdown",
   "id": "b1ecb823",
   "metadata": {},
   "source": [
    "##### using Tab to viewing the contents of modules using autocomplete"
   ]
  },
  {
   "cell_type": "code",
   "execution_count": null,
   "id": "da1e57aa",
   "metadata": {
    "scrolled": true
   },
   "outputs": [],
   "source": [
    "L. #<Tab>"
   ]
  },
  {
   "cell_type": "code",
   "execution_count": null,
   "id": "584d21f1",
   "metadata": {
    "scrolled": true
   },
   "outputs": [],
   "source": [
    "L.co #<Tab>"
   ]
  },
  {
   "cell_type": "code",
   "execution_count": null,
   "id": "3602c72b",
   "metadata": {
    "scrolled": true
   },
   "outputs": [],
   "source": [
    "L._ #<Tab>"
   ]
  },
  {
   "cell_type": "code",
   "execution_count": null,
   "id": "23406f4c",
   "metadata": {
    "scrolled": true
   },
   "outputs": [],
   "source": [
    "import  #<Tab>"
   ]
  },
  {
   "cell_type": "code",
   "execution_count": null,
   "id": "40fc9864",
   "metadata": {
    "scrolled": true
   },
   "outputs": [],
   "source": [
    "import h #<Tab>"
   ]
  },
  {
   "cell_type": "code",
   "execution_count": null,
   "id": "e2a38e41",
   "metadata": {
    "scrolled": true
   },
   "outputs": [],
   "source": [
    "# using \"*\" to find by matching"
   ]
  },
  {
   "cell_type": "code",
   "execution_count": 9,
   "id": "a8dcc753",
   "metadata": {
    "scrolled": true
   },
   "outputs": [],
   "source": [
    "*Warning? # \"Warning\" in the end"
   ]
  },
  {
   "cell_type": "code",
   "execution_count": 10,
   "id": "67aec595",
   "metadata": {
    "scrolled": true
   },
   "outputs": [],
   "source": [
    "str.*find*? # \"find\" anywhere in the word"
   ]
  },
  {
   "cell_type": "markdown",
   "id": "70fb8809",
   "metadata": {},
   "source": [
    "## IPython shell magic methods"
   ]
  },
  {
   "cell_type": "markdown",
   "id": "b3dd9462",
   "metadata": {},
   "source": [
    "##### %paste and %cpaste when we copy and past code with extra characters"
   ]
  },
  {
   "cell_type": "code",
   "execution_count": 20,
   "id": "1f2fe4f8",
   "metadata": {
    "scrolled": true
   },
   "outputs": [
    {
     "name": "stderr",
     "output_type": "stream",
     "text": [
      "UsageError: Line magic function `%cpaste` not found.\n"
     ]
    }
   ],
   "source": [
    "%cpaste #input and run code (In IPython)\n",
    "def donothing(x):\n",
    "    return(x)\n",
    "\n",
    "donothing(5)"
   ]
  },
  {
   "cell_type": "markdown",
   "id": "065ca861",
   "metadata": {
    "scrolled": true
   },
   "source": [
    "##### \"%run\" to start external file"
   ]
  },
  {
   "cell_type": "code",
   "execution_count": 22,
   "id": "56b27a04",
   "metadata": {
    "scrolled": true
   },
   "outputs": [
    {
     "name": "stdout",
     "output_type": "stream",
     "text": [
      "1 squared is 1\n",
      "2 squared is 4\n",
      "3 squared is 9\n"
     ]
    }
   ],
   "source": [
    "%run testing_magic_function_run.py"
   ]
  },
  {
   "cell_type": "code",
   "execution_count": 23,
   "id": "b6c0f795",
   "metadata": {
    "scrolled": true
   },
   "outputs": [
    {
     "data": {
      "text/plain": [
       "25"
      ]
     },
     "execution_count": 23,
     "metadata": {},
     "output_type": "execute_result"
    }
   ],
   "source": [
    "# function \"square\" from testing_magic_function_run.py now available\n",
    "square(5)"
   ]
  },
  {
   "cell_type": "markdown",
   "id": "90793845",
   "metadata": {},
   "source": [
    "##### measuring the duration of code execution by \"%timeit\" for one-string and \"%%timeit\" for more than one-string"
   ]
  },
  {
   "cell_type": "code",
   "execution_count": 1,
   "id": "52874d16",
   "metadata": {
    "scrolled": true
   },
   "outputs": [
    {
     "name": "stdout",
     "output_type": "stream",
     "text": [
      "323 µs ± 11.4 µs per loop (mean ± std. dev. of 7 runs, 1000 loops each)\n"
     ]
    }
   ],
   "source": [
    "%timeit L = [n ** 2 for n in range(1000)] # many runs"
   ]
  },
  {
   "cell_type": "code",
   "execution_count": 3,
   "id": "f324a315",
   "metadata": {
    "scrolled": true
   },
   "outputs": [
    {
     "name": "stdout",
     "output_type": "stream",
     "text": [
      "Wall time: 99.6 ms\n"
     ]
    }
   ],
   "source": [
    "%time L = [n ** 2 for n in range(100000)]"
   ]
  },
  {
   "cell_type": "code",
   "execution_count": 4,
   "id": "b4683f6e",
   "metadata": {
    "scrolled": true
   },
   "outputs": [
    {
     "name": "stdout",
     "output_type": "stream",
     "text": [
      "371 µs ± 13.3 µs per loop (mean ± std. dev. of 7 runs, 1000 loops each)\n"
     ]
    }
   ],
   "source": [
    "%%timeit \n",
    "L = []\n",
    "for n in range(1000):\n",
    "    L.append(n ** 2)"
   ]
  },
  {
   "cell_type": "code",
   "execution_count": 5,
   "id": "2d637898",
   "metadata": {
    "scrolled": true
   },
   "outputs": [
    {
     "name": "stdout",
     "output_type": "stream",
     "text": [
      "Wall time: 99.1 ms\n"
     ]
    }
   ],
   "source": [
    "%%time \n",
    "L = []\n",
    "for n in range(100000):\n",
    "    L.append(n ** 2)"
   ]
  },
  {
   "cell_type": "markdown",
   "id": "8da5c67b",
   "metadata": {},
   "source": [
    "##### information about magic functions can be obtained using: \"?\", \"%magic\", \"%lsmagic\""
   ]
  },
  {
   "cell_type": "code",
   "execution_count": 6,
   "id": "06dbcabe",
   "metadata": {
    "scrolled": true
   },
   "outputs": [],
   "source": [
    "%timeit? # description of the magic function"
   ]
  },
  {
   "cell_type": "code",
   "execution_count": 7,
   "id": "b7b28d4a",
   "metadata": {
    "scrolled": true
   },
   "outputs": [],
   "source": [
    "%magic # a general description of the available magic functions"
   ]
  },
  {
   "cell_type": "code",
   "execution_count": 8,
   "id": "400f63ff",
   "metadata": {
    "scrolled": false
   },
   "outputs": [
    {
     "data": {
      "application/json": {
       "cell": {
        "!": "OSMagics",
        "HTML": "Other",
        "SVG": "Other",
        "bash": "Other",
        "capture": "ExecutionMagics",
        "cmd": "Other",
        "debug": "ExecutionMagics",
        "file": "Other",
        "html": "DisplayMagics",
        "javascript": "DisplayMagics",
        "js": "DisplayMagics",
        "latex": "DisplayMagics",
        "markdown": "DisplayMagics",
        "perl": "Other",
        "prun": "ExecutionMagics",
        "pypy": "Other",
        "python": "Other",
        "python2": "Other",
        "python3": "Other",
        "ruby": "Other",
        "script": "ScriptMagics",
        "sh": "Other",
        "svg": "DisplayMagics",
        "sx": "OSMagics",
        "system": "OSMagics",
        "time": "ExecutionMagics",
        "timeit": "ExecutionMagics",
        "writefile": "OSMagics"
       },
       "line": {
        "alias": "OSMagics",
        "alias_magic": "BasicMagics",
        "autoawait": "AsyncMagics",
        "autocall": "AutoMagics",
        "automagic": "AutoMagics",
        "autosave": "KernelMagics",
        "bookmark": "OSMagics",
        "cd": "OSMagics",
        "clear": "KernelMagics",
        "cls": "KernelMagics",
        "colors": "BasicMagics",
        "conda": "PackagingMagics",
        "config": "ConfigMagics",
        "connect_info": "KernelMagics",
        "copy": "Other",
        "ddir": "Other",
        "debug": "ExecutionMagics",
        "dhist": "OSMagics",
        "dirs": "OSMagics",
        "doctest_mode": "BasicMagics",
        "echo": "Other",
        "ed": "Other",
        "edit": "KernelMagics",
        "env": "OSMagics",
        "gui": "BasicMagics",
        "hist": "Other",
        "history": "HistoryMagics",
        "killbgscripts": "ScriptMagics",
        "ldir": "Other",
        "less": "KernelMagics",
        "load": "CodeMagics",
        "load_ext": "ExtensionMagics",
        "loadpy": "CodeMagics",
        "logoff": "LoggingMagics",
        "logon": "LoggingMagics",
        "logstart": "LoggingMagics",
        "logstate": "LoggingMagics",
        "logstop": "LoggingMagics",
        "ls": "Other",
        "lsmagic": "BasicMagics",
        "macro": "ExecutionMagics",
        "magic": "BasicMagics",
        "matplotlib": "PylabMagics",
        "mkdir": "Other",
        "more": "KernelMagics",
        "notebook": "BasicMagics",
        "page": "BasicMagics",
        "pastebin": "CodeMagics",
        "pdb": "ExecutionMagics",
        "pdef": "NamespaceMagics",
        "pdoc": "NamespaceMagics",
        "pfile": "NamespaceMagics",
        "pinfo": "NamespaceMagics",
        "pinfo2": "NamespaceMagics",
        "pip": "PackagingMagics",
        "popd": "OSMagics",
        "pprint": "BasicMagics",
        "precision": "BasicMagics",
        "prun": "ExecutionMagics",
        "psearch": "NamespaceMagics",
        "psource": "NamespaceMagics",
        "pushd": "OSMagics",
        "pwd": "OSMagics",
        "pycat": "OSMagics",
        "pylab": "PylabMagics",
        "qtconsole": "KernelMagics",
        "quickref": "BasicMagics",
        "recall": "HistoryMagics",
        "rehashx": "OSMagics",
        "reload_ext": "ExtensionMagics",
        "ren": "Other",
        "rep": "Other",
        "rerun": "HistoryMagics",
        "reset": "NamespaceMagics",
        "reset_selective": "NamespaceMagics",
        "rmdir": "Other",
        "run": "ExecutionMagics",
        "save": "CodeMagics",
        "sc": "OSMagics",
        "set_env": "OSMagics",
        "store": "StoreMagics",
        "sx": "OSMagics",
        "system": "OSMagics",
        "tb": "ExecutionMagics",
        "time": "ExecutionMagics",
        "timeit": "ExecutionMagics",
        "unalias": "OSMagics",
        "unload_ext": "ExtensionMagics",
        "who": "NamespaceMagics",
        "who_ls": "NamespaceMagics",
        "whos": "NamespaceMagics",
        "xdel": "NamespaceMagics",
        "xmode": "BasicMagics"
       }
      },
      "text/plain": [
       "Available line magics:\n",
       "%alias  %alias_magic  %autoawait  %autocall  %automagic  %autosave  %bookmark  %cd  %clear  %cls  %colors  %conda  %config  %connect_info  %copy  %ddir  %debug  %dhist  %dirs  %doctest_mode  %echo  %ed  %edit  %env  %gui  %hist  %history  %killbgscripts  %ldir  %less  %load  %load_ext  %loadpy  %logoff  %logon  %logstart  %logstate  %logstop  %ls  %lsmagic  %macro  %magic  %matplotlib  %mkdir  %more  %notebook  %page  %pastebin  %pdb  %pdef  %pdoc  %pfile  %pinfo  %pinfo2  %pip  %popd  %pprint  %precision  %prun  %psearch  %psource  %pushd  %pwd  %pycat  %pylab  %qtconsole  %quickref  %recall  %rehashx  %reload_ext  %ren  %rep  %rerun  %reset  %reset_selective  %rmdir  %run  %save  %sc  %set_env  %store  %sx  %system  %tb  %time  %timeit  %unalias  %unload_ext  %who  %who_ls  %whos  %xdel  %xmode\n",
       "\n",
       "Available cell magics:\n",
       "%%!  %%HTML  %%SVG  %%bash  %%capture  %%cmd  %%debug  %%file  %%html  %%javascript  %%js  %%latex  %%markdown  %%perl  %%prun  %%pypy  %%python  %%python2  %%python3  %%ruby  %%script  %%sh  %%svg  %%sx  %%system  %%time  %%timeit  %%writefile\n",
       "\n",
       "Automagic is ON, % prefix IS NOT needed for line magics."
      ]
     },
     "execution_count": 8,
     "metadata": {},
     "output_type": "execute_result"
    }
   ],
   "source": [
    "%lsmagic"
   ]
  },
  {
   "cell_type": "markdown",
   "id": "f2281bfe",
   "metadata": {},
   "source": [
    "# Input and output history, objects \"In\" and \"Out\" of IPython shell"
   ]
  },
  {
   "cell_type": "code",
   "execution_count": 2,
   "id": "0a34af1f",
   "metadata": {
    "scrolled": true
   },
   "outputs": [],
   "source": [
    "import math"
   ]
  },
  {
   "cell_type": "code",
   "execution_count": 3,
   "id": "0ad4383c",
   "metadata": {
    "scrolled": true
   },
   "outputs": [
    {
     "data": {
      "text/plain": [
       "0.9092974268256817"
      ]
     },
     "execution_count": 3,
     "metadata": {},
     "output_type": "execute_result"
    }
   ],
   "source": [
    "math.sin(2) #Ctrl + Enter to run thecell"
   ]
  },
  {
   "cell_type": "code",
   "execution_count": 4,
   "id": "6a011614",
   "metadata": {
    "scrolled": true
   },
   "outputs": [
    {
     "data": {
      "text/plain": [
       "-0.4161468365471424"
      ]
     },
     "execution_count": 4,
     "metadata": {},
     "output_type": "execute_result"
    }
   ],
   "source": [
    "math.cos(2)"
   ]
  },
  {
   "cell_type": "code",
   "execution_count": 5,
   "id": "90626440",
   "metadata": {
    "scrolled": true
   },
   "outputs": [
    {
     "name": "stdout",
     "output_type": "stream",
     "text": [
      "['', 'Out[10] ** 2 + Out[11] ** 2 # operations on output lines: sin^2(2) + cos^2(2)', 'import math', 'math.sin(2) #Ctrl + Enter to run thecell', 'math.cos(2)', 'print(In) # input history']\n"
     ]
    }
   ],
   "source": [
    "print(In) # input history"
   ]
  },
  {
   "cell_type": "code",
   "execution_count": 6,
   "id": "2ce7b973",
   "metadata": {
    "scrolled": false
   },
   "outputs": [
    {
     "data": {
      "text/plain": [
       "{3: 0.9092974268256817, 4: -0.4161468365471424}"
      ]
     },
     "execution_count": 6,
     "metadata": {},
     "output_type": "execute_result"
    }
   ],
   "source": [
    "Out # output history"
   ]
  },
  {
   "cell_type": "code",
   "execution_count": 8,
   "id": "1dcea124",
   "metadata": {
    "scrolled": true
   },
   "outputs": [
    {
     "name": "stdout",
     "output_type": "stream",
     "text": [
      "import math\n"
     ]
    }
   ],
   "source": [
    "print(In[2]) # output of the entered line with the given number"
   ]
  },
  {
   "cell_type": "code",
   "execution_count": 10,
   "id": "d0139737",
   "metadata": {
    "scrolled": true
   },
   "outputs": [
    {
     "data": {
      "text/plain": [
       "1.0"
      ]
     },
     "execution_count": 10,
     "metadata": {},
     "output_type": "execute_result"
    }
   ],
   "source": [
    "Out[3] ** 2 + Out[4] ** 2 # operations on output lines: sin^2(2) + cos^2(2)"
   ]
  },
  {
   "cell_type": "markdown",
   "id": "4c3a8fe1",
   "metadata": {},
   "source": [
    "##### using \"_\", \"__\", \"___\" to output 1-3 previous output"
   ]
  }
 ],
 "metadata": {
  "kernelspec": {
   "display_name": "Python 3 (ipykernel)",
   "language": "python",
   "name": "python3"
  },
  "language_info": {
   "codemirror_mode": {
    "name": "ipython",
    "version": 3
   },
   "file_extension": ".py",
   "mimetype": "text/x-python",
   "name": "python",
   "nbconvert_exporter": "python",
   "pygments_lexer": "ipython3",
   "version": "3.10.0"
  }
 },
 "nbformat": 4,
 "nbformat_minor": 5
}
