{
 "cells": [
  {
   "cell_type": "code",
   "execution_count": 1,
   "id": "7cc661bd",
   "metadata": {
    "scrolled": true
   },
   "outputs": [
    {
     "data": {
      "text/plain": [
       "'1.21.2'"
      ]
     },
     "execution_count": 1,
     "metadata": {},
     "output_type": "execute_result"
    }
   ],
   "source": [
    "import numpy\n",
    "numpy.__version__"
   ]
  },
  {
   "cell_type": "code",
   "execution_count": 2,
   "id": "25555144",
   "metadata": {},
   "outputs": [],
   "source": [
    "import numpy as np"
   ]
  },
  {
   "cell_type": "code",
   "execution_count": null,
   "id": "ff4a4c00",
   "metadata": {},
   "outputs": [],
   "source": [
    "#np.<Tab>\n",
    "np."
   ]
  },
  {
   "cell_type": "code",
   "execution_count": 3,
   "id": "a2e14b1f",
   "metadata": {},
   "outputs": [],
   "source": [
    "np?"
   ]
  },
  {
   "cell_type": "markdown",
   "id": "45ba0880",
   "metadata": {},
   "source": [
    "##### Working with Data Types in Python"
   ]
  },
  {
   "cell_type": "raw",
   "id": "51d081d5",
   "metadata": {},
   "source": [
    "/*C code*/\n",
    "int result = 0;\n",
    "for(int i=0; i<100; i++){\n",
    "    result += i;\n",
    "}\n",
    "    \n",
    "# Python code\n",
    "result = 0\n",
    "for i in range(100):\n",
    "    result += i\n",
    "    \n",
    "##########################\n",
    "\n",
    "Dynamic typization\n",
    "\n",
    "##########################"
   ]
  },
  {
   "cell_type": "markdown",
   "id": "05e30b5f",
   "metadata": {},
   "source": [
    "###### Integer in Python actually looks like this:\n",
    "\n",
    "struct _longobject{\n",
    "    long ob_refcnt;\n",
    "    PyTypeObject *ob_type;\n",
    "    size_t ob_size;\n",
    "    long ob_digit[1];\n",
    "};\n",
    "\n",
    "###### Integer in Python consists of 4 parts:\n",
    "\n",
    "ob_refcnt - a reference count that Python silently handles memory allocation and deallocation\n",
    "\n",
    "ob_type - encoding variable type\n",
    "\n",
    "ob_size - specifying the size of the following data elements\n",
    "\n",
    "ob_digit - containing the actual integer value that the Python language variable represents"
   ]
  },
  {
   "cell_type": "code",
   "execution_count": null,
   "id": "94424c0c",
   "metadata": {},
   "outputs": [],
   "source": []
  }
 ],
 "metadata": {
  "kernelspec": {
   "display_name": "Python 3 (ipykernel)",
   "language": "python",
   "name": "python3"
  },
  "language_info": {
   "codemirror_mode": {
    "name": "ipython",
    "version": 3
   },
   "file_extension": ".py",
   "mimetype": "text/x-python",
   "name": "python",
   "nbconvert_exporter": "python",
   "pygments_lexer": "ipython3",
   "version": "3.10.0"
  }
 },
 "nbformat": 4,
 "nbformat_minor": 5
}
