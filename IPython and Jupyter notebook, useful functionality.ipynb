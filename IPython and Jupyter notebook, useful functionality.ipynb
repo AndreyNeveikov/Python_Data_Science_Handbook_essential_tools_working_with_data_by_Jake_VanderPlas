{
 "cells": [
  {
   "cell_type": "code",
   "execution_count": null,
   "id": "3a610da2",
   "metadata": {},
   "outputs": [],
   "source": [
    "# using \"?\" to get additional information"
   ]
  },
  {
   "cell_type": "code",
   "execution_count": 1,
   "id": "c6e0e9f7",
   "metadata": {},
   "outputs": [],
   "source": [
    "len?"
   ]
  },
  {
   "cell_type": "code",
   "execution_count": 2,
   "id": "8f9f1e17",
   "metadata": {},
   "outputs": [],
   "source": [
    "L = [1, 2, 3]\n",
    "L?"
   ]
  },
  {
   "cell_type": "code",
   "execution_count": 3,
   "id": "714764bd",
   "metadata": {},
   "outputs": [],
   "source": [
    "def square(a):\n",
    "    \"\"\"Return the square of a\"\"\"\n",
    "    return a ** 2\n",
    "\n",
    "square?"
   ]
  },
  {
   "cell_type": "code",
   "execution_count": 4,
   "id": "0a32b8dd",
   "metadata": {},
   "outputs": [],
   "source": [
    "len??"
   ]
  },
  {
   "cell_type": "code",
   "execution_count": null,
   "id": "24337f35",
   "metadata": {},
   "outputs": [],
   "source": [
    "# using \"<Tab>\" to viewing the contents of modules using autocomplete"
   ]
  },
  {
   "cell_type": "code",
   "execution_count": null,
   "id": "da1e57aa",
   "metadata": {},
   "outputs": [],
   "source": [
    "L. #<Tab>"
   ]
  },
  {
   "cell_type": "code",
   "execution_count": null,
   "id": "584d21f1",
   "metadata": {},
   "outputs": [],
   "source": [
    "L.co #<Tab>"
   ]
  },
  {
   "cell_type": "code",
   "execution_count": null,
   "id": "3602c72b",
   "metadata": {},
   "outputs": [],
   "source": [
    "L._ #<Tab>"
   ]
  },
  {
   "cell_type": "code",
   "execution_count": null,
   "id": "23406f4c",
   "metadata": {},
   "outputs": [],
   "source": [
    "import  #<Tab>"
   ]
  },
  {
   "cell_type": "code",
   "execution_count": null,
   "id": "40fc9864",
   "metadata": {},
   "outputs": [],
   "source": [
    "import h #<Tab>"
   ]
  },
  {
   "cell_type": "code",
   "execution_count": null,
   "id": "e2a38e41",
   "metadata": {},
   "outputs": [],
   "source": [
    "# using \"*\" to find by matching"
   ]
  },
  {
   "cell_type": "code",
   "execution_count": 9,
   "id": "a8dcc753",
   "metadata": {},
   "outputs": [],
   "source": [
    "*Warning? # \"Warning\" in the end"
   ]
  },
  {
   "cell_type": "code",
   "execution_count": 10,
   "id": "67aec595",
   "metadata": {},
   "outputs": [],
   "source": [
    "str.*find*? # \"find\" anywhere in the word"
   ]
  },
  {
   "cell_type": "code",
   "execution_count": null,
   "id": "beed8511",
   "metadata": {},
   "outputs": [],
   "source": [
    "# IPython shell magic methods"
   ]
  },
  {
   "cell_type": "code",
   "execution_count": null,
   "id": "bae0eb1a",
   "metadata": {},
   "outputs": [],
   "source": [
    "# %paste and %cpaste when we copy and past code with extra characters"
   ]
  },
  {
   "cell_type": "code",
   "execution_count": 20,
   "id": "1f2fe4f8",
   "metadata": {},
   "outputs": [
    {
     "name": "stderr",
     "output_type": "stream",
     "text": [
      "UsageError: Line magic function `%cpaste` not found.\n"
     ]
    }
   ],
   "source": [
    "%cpaste #input and run code (In Ipython)\n",
    "def donothing(x):\n",
    "    return(x)\n",
    "\n",
    "donothing(5)"
   ]
  },
  {
   "cell_type": "code",
   "execution_count": null,
   "id": "69c9ce29",
   "metadata": {},
   "outputs": [],
   "source": [
    "# \"%run\" to start external file"
   ]
  },
  {
   "cell_type": "code",
   "execution_count": 22,
   "id": "56b27a04",
   "metadata": {},
   "outputs": [
    {
     "name": "stdout",
     "output_type": "stream",
     "text": [
      "1 squared is 1\n",
      "2 squared is 4\n",
      "3 squared is 9\n"
     ]
    }
   ],
   "source": [
    "%run testing_magic_function_run.py"
   ]
  },
  {
   "cell_type": "code",
   "execution_count": 23,
   "id": "b6c0f795",
   "metadata": {},
   "outputs": [
    {
     "data": {
      "text/plain": [
       "25"
      ]
     },
     "execution_count": 23,
     "metadata": {},
     "output_type": "execute_result"
    }
   ],
   "source": [
    "# function \"square\" from testing_magic_function_run.py now available\n",
    "square(5)"
   ]
  },
  {
   "cell_type": "code",
   "execution_count": null,
   "id": "4eb772b0",
   "metadata": {},
   "outputs": [],
   "source": [
    "# measuring the duration of code execution by \"%timeit\""
   ]
  },
  {
   "cell_type": "code",
   "execution_count": null,
   "id": "52874d16",
   "metadata": {},
   "outputs": [],
   "source": []
  }
 ],
 "metadata": {
  "kernelspec": {
   "display_name": "Python 3 (ipykernel)",
   "language": "python",
   "name": "python3"
  },
  "language_info": {
   "codemirror_mode": {
    "name": "ipython",
    "version": 3
   },
   "file_extension": ".py",
   "mimetype": "text/x-python",
   "name": "python",
   "nbconvert_exporter": "python",
   "pygments_lexer": "ipython3",
   "version": "3.10.0"
  }
 },
 "nbformat": 4,
 "nbformat_minor": 5
}
